{
 "cells": [
  {
   "cell_type": "code",
   "execution_count": 5,
   "id": "3568a609-05c1-4c17-a8e2-4f39180dc04f",
   "metadata": {
    "tags": []
   },
   "outputs": [],
   "source": [
    "import random"
   ]
  },
  {
   "cell_type": "code",
   "execution_count": 12,
   "id": "be9160c3-f25b-4d17-8341-289e8284be3c",
   "metadata": {
    "tags": []
   },
   "outputs": [],
   "source": [
    "def simulate_rain():\n",
    "    \"\"\"Returns an estimation of rain per day (mm) based on a normal distribution.\"\"\"\n",
    "    rain_lvl = random.normalvariate(mu=1,sigma=2)\n",
    "    return rain_lvl"
   ]
  },
  {
   "cell_type": "code",
   "execution_count": 16,
   "id": "4cbab161-5271-43f5-9861-0a13e1dd9a52",
   "metadata": {
    "tags": []
   },
   "outputs": [
    {
     "data": {
      "text/plain": [
       "5.654740586454508"
      ]
     },
     "execution_count": 16,
     "metadata": {},
     "output_type": "execute_result"
    }
   ],
   "source": [
    "simulate_rain()"
   ]
  },
  {
   "cell_type": "code",
   "execution_count": null,
   "id": "d3f884f7-7ca9-4575-a869-bbcebf163c55",
   "metadata": {},
   "outputs": [],
   "source": []
  }
 ],
 "metadata": {
  "kernelspec": {
   "display_name": "prog",
   "language": "python",
   "name": "prog"
  },
  "language_info": {
   "codemirror_mode": {
    "name": "ipython",
    "version": 3
   },
   "file_extension": ".py",
   "mimetype": "text/x-python",
   "name": "python",
   "nbconvert_exporter": "python",
   "pygments_lexer": "ipython3",
   "version": "3.10.12"
  }
 },
 "nbformat": 4,
 "nbformat_minor": 5
}
